{
 "cells": [
  {
   "cell_type": "code",
   "execution_count": 1,
   "id": "fa789c8a-b4ec-4f09-9551-433202df9878",
   "metadata": {},
   "outputs": [
    {
     "name": "stdout",
     "output_type": "stream",
     "text": [
      " * Serving Flask app '__main__'\n",
      " * Debug mode: on\n"
     ]
    },
    {
     "name": "stderr",
     "output_type": "stream",
     "text": [
      "WARNING: This is a development server. Do not use it in a production deployment. Use a production WSGI server instead.\n",
      " * Running on http://127.0.0.1:5001\n",
      "Press CTRL+C to quit\n",
      "127.0.0.1 - - [08/Oct/2024 17:49:54] \"GET / HTTP/1.1\" 200 -\n",
      "127.0.0.1 - - [08/Oct/2024 17:49:54] \"GET /favicon.ico HTTP/1.1\" 404 -\n",
      "127.0.0.1 - - [08/Oct/2024 17:49:59] \"POST /predict HTTP/1.1\" 200 -\n",
      "127.0.0.1 - - [08/Oct/2024 17:50:03] \"GET / HTTP/1.1\" 200 -\n",
      "127.0.0.1 - - [08/Oct/2024 17:50:10] \"POST /predict HTTP/1.1\" 200 -\n",
      "127.0.0.1 - - [08/Oct/2024 17:50:12] \"GET / HTTP/1.1\" 200 -\n"
     ]
    }
   ],
   "source": [
    "from flask import Flask, request, render_template\n",
    "import numpy as np\n",
    "import pickle\n",
    "\n",
    "# Criação da aplicação Flask\n",
    "app = Flask(__name__)\n",
    "\n",
    "# Carregar o modelo treinado (você precisará salvar o modelo como um arquivo .pkl)\n",
    "with open('modelo_regressao.pkl', 'rb') as f:\n",
    "    modelo = pickle.load(f)\n",
    "\n",
    "@app.route('/')\n",
    "def home():\n",
    "    return render_template('index.html')\n",
    "\n",
    "@app.route('/predict', methods=['POST'])\n",
    "def predict():\n",
    "    # Obter o valor de horas de estudo do formulário\n",
    "    horas_estudo = float(request.form['horas_estudo'])\n",
    "    \n",
    "    # Transformar a entrada em um array adequado para o modelo\n",
    "    horas_estudo_array = np.array([[horas_estudo]])\n",
    "    \n",
    "    # Fazer a previsão usando o modelo\n",
    "    salario_previsto = modelo.predict(horas_estudo_array)\n",
    "    \n",
    "    # Retornar o resultado em HTML\n",
    "    return render_template('resultado.html', horas=horas_estudo, salario=salario_previsto[0])\n",
    "\n",
    "if __name__ == '__main__':\n",
    "    app.run(debug=True, port=5001, use_reloader=False)\n",
    "\n",
    "\n"
   ]
  },
  {
   "cell_type": "code",
   "execution_count": null,
   "id": "9fbd6e63-697a-4be7-883f-a6bf24124d36",
   "metadata": {},
   "outputs": [],
   "source": []
  }
 ],
 "metadata": {
  "kernelspec": {
   "display_name": "Python 3 (ipykernel)",
   "language": "python",
   "name": "python3"
  },
  "language_info": {
   "codemirror_mode": {
    "name": "ipython",
    "version": 3
   },
   "file_extension": ".py",
   "mimetype": "text/x-python",
   "name": "python",
   "nbconvert_exporter": "python",
   "pygments_lexer": "ipython3",
   "version": "3.12.4"
  }
 },
 "nbformat": 4,
 "nbformat_minor": 5
}
